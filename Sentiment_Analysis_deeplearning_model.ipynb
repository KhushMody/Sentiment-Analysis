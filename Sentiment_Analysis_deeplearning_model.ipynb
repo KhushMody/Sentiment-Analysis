{
  "nbformat": 4,
  "nbformat_minor": 0,
  "metadata": {
    "colab": {
      "name": "Samsung_prism_deeplearning_model.ipynb",
      "private_outputs": true,
      "provenance": []
    },
    "kernelspec": {
      "name": "python3",
      "display_name": "Python 3"
    },
    "language_info": {
      "name": "python"
    },
    "accelerator": "GPU"
  },
  "cells": [
    {
      "cell_type": "code",
      "metadata": {
        "id": "Ag2yAwtmMOde"
      },
      "source": [
        "import numpy as np \n",
        "import pandas as pd \n",
        "import re\n",
        "\n",
        "# Data Visualization\n",
        "import matplotlib.pyplot as plt\n",
        "%matplotlib inline\n",
        "\n",
        "import nltk\n",
        "from nltk.stem import WordNetLemmatizer\n",
        "import re\n",
        "from nltk.corpus import stopwords\n",
        "from keras.preprocessing.text import one_hot\n",
        "lem=WordNetLemmatizer()\n"
      ],
      "execution_count": null,
      "outputs": []
    },
    {
      "cell_type": "code",
      "metadata": {
        "id": "VWuizjl6MhyU"
      },
      "source": [
        "tweets_data_path = '/content/Corona_NLP_train.csv'\n",
        "df = pd.read_csv(tweets_data_path, encoding = 'latin-1')\n",
        "test = pd.read_csv('/content/Corona_NLP_test.csv')"
      ],
      "execution_count": null,
      "outputs": []
    },
    {
      "cell_type": "code",
      "metadata": {
        "id": "y0amC_LcN3IP"
      },
      "source": [
        "Y=df.iloc[:,5]\n",
        "Y=pd.get_dummies(Y)\n",
        "#Y"
      ],
      "execution_count": null,
      "outputs": []
    },
    {
      "cell_type": "code",
      "metadata": {
        "id": "euj5c_irRNKZ"
      },
      "source": [
        "X=df['OriginalTweet']\n",
        "X=np.array(X)"
      ],
      "execution_count": null,
      "outputs": []
    },
    {
      "cell_type": "code",
      "metadata": {
        "id": "BliT8wnySZEY"
      },
      "source": [
        "nltk.download('wordnet')"
      ],
      "execution_count": null,
      "outputs": []
    },
    {
      "cell_type": "code",
      "metadata": {
        "id": "Yanob0qzSP8K"
      },
      "source": [
        "for i,sent in enumerate(X):\n",
        "  #print(i)\n",
        "  sent=re.sub('[^a-zA-Z]',' ',sent)\n",
        "  sent=sent.lower()\n",
        "  sent=sent.split()\n",
        "  wds=''\n",
        "  for word in sent:\n",
        "    #if word not in stopwords.words('english'):\n",
        "      word=lem.lemmatize(word)\n",
        "      wds+=' '\n",
        "      wds+=word\n",
        "  X[i]=wds\n",
        "#X"
      ],
      "execution_count": null,
      "outputs": []
    },
    {
      "cell_type": "code",
      "metadata": {
        "id": "9iTng6dKSh4v"
      },
      "source": [
        "from keras.preprocessing.text import Tokenizer\n",
        "tokenizer=Tokenizer(num_words=100000)\n",
        "tokenizer.fit_on_texts(X)\n",
        "dic=tokenizer.word_index"
      ],
      "execution_count": null,
      "outputs": []
    },
    {
      "cell_type": "code",
      "metadata": {
        "id": "qju-ZNYqReR6"
      },
      "source": [
        "X_train=tokenizer.texts_to_sequences(X)\n",
        "#X_train"
      ],
      "execution_count": null,
      "outputs": []
    },
    {
      "cell_type": "code",
      "metadata": {
        "id": "gwobo0GjR3lH"
      },
      "source": [
        "from keras.preprocessing.sequence import pad_sequences\n",
        "X_train=pad_sequences(X_train,maxlen=300,padding='pre')\n",
        "X_train"
      ],
      "execution_count": null,
      "outputs": []
    },
    {
      "cell_type": "code",
      "metadata": {
        "id": "6NuYdRuzTenA"
      },
      "source": [
        "!wget http://nlp.stanford.edu/data/glove.6B.zip"
      ],
      "execution_count": null,
      "outputs": []
    },
    {
      "cell_type": "code",
      "metadata": {
        "id": "PNHOFspKTgSR"
      },
      "source": [
        "!unzip glove*.zip"
      ],
      "execution_count": null,
      "outputs": []
    },
    {
      "cell_type": "code",
      "metadata": {
        "id": "WQ9WVb6xUSzj"
      },
      "source": [
        ""
      ],
      "execution_count": null,
      "outputs": []
    },
    {
      "cell_type": "code",
      "metadata": {
        "id": "0CPCCNOkS1dr"
      },
      "source": [
        "import os\n",
        "#embeddings_index = {}\n",
        "fl = open('/content/glove.6B.300d.txt', encoding='utf-8')\n",
        "GlvDic={}\n",
        "for line in fl:\n",
        "  lst=line.split()\n",
        "  wrd=lst[0]\n",
        "  ary=np.array(lst[1:])\n",
        "  GlvDic[wrd]=ary"
      ],
      "execution_count": null,
      "outputs": []
    },
    {
      "cell_type": "code",
      "metadata": {
        "id": "IbtoC8RiS7JB"
      },
      "source": [
        "mat=np.zeros((100000,300))\n",
        "for key,i in dic.items():\n",
        "  vec=GlvDic.get(key)\n",
        "  if vec is not None:\n",
        "    mat[i]=vec"
      ],
      "execution_count": null,
      "outputs": []
    },
    {
      "cell_type": "code",
      "metadata": {
        "id": "PNvb-QlpUqCr"
      },
      "source": [
        "from keras.models import Sequential\n",
        "from keras.layers import Embedding\n",
        "from keras.layers import Dense\n",
        "from keras.layers import LSTM\n",
        "from keras.layers import Dropout\n",
        "from keras.layers import Bidirectional"
      ],
      "execution_count": null,
      "outputs": []
    },
    {
      "cell_type": "code",
      "metadata": {
        "id": "zQwb2bnMVIbT"
      },
      "source": [
        "model=Sequential()\n",
        "model.add(Embedding(100000,300,input_length=300))\n",
        "model.add(LSTM(100))\n",
        "model.add(Dense(256, activation='relu'))\n",
        "model.add(Dropout(0.2))\n",
        "\n",
        "model.add(Dense(1024, activation='relu'))\n",
        "model.add(Dropout(0.2))\n",
        "model.add(Dense(5,activation='softmax'))\n",
        "model.layers[0].set_weights([mat])\n",
        "model.layers[0].trainable=False\n"
      ],
      "execution_count": null,
      "outputs": []
    },
    {
      "cell_type": "code",
      "metadata": {
        "id": "-J_mKLLCVQHj"
      },
      "source": [
        "model.compile(loss='categorical_crossentropy',optimizer='adam',metrics=['accuracy'])"
      ],
      "execution_count": null,
      "outputs": []
    },
    {
      "cell_type": "code",
      "metadata": {
        "id": "3tAFthN3VlCo"
      },
      "source": [
        "model.fit(X_train,Y,validation_split=.2,epochs=15)\n"
      ],
      "execution_count": null,
      "outputs": []
    },
    {
      "cell_type": "code",
      "metadata": {
        "id": "y8JRQx2LVoF5"
      },
      "source": [
        ""
      ],
      "execution_count": null,
      "outputs": []
    }
  ]
}